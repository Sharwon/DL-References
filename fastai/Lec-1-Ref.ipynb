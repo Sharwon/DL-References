{
 "cells": [
  {
   "cell_type": "markdown",
   "metadata": {},
   "source": [
    "# **Pathlib - A data loader tool.**\n",
    "- Helps in creating a path object instead of a string notation. So, takes care of the underlying file system and makes the code compatible for different platforms."
   ]
  },
  {
   "cell_type": "code",
   "execution_count": 1,
   "metadata": {},
   "outputs": [],
   "source": [
    "from pathlib import Path"
   ]
  },
  {
   "cell_type": "code",
   "execution_count": 2,
   "metadata": {},
   "outputs": [
    {
     "data": {
      "text/plain": [
       "PosixPath('/home/shar1/MyNotes/fast_dl2')"
      ]
     },
     "execution_count": 2,
     "metadata": {},
     "output_type": "execute_result"
    }
   ],
   "source": [
    "# Gets the current working directory.\n",
    "Path.cwd()"
   ]
  },
  {
   "cell_type": "code",
   "execution_count": 3,
   "metadata": {},
   "outputs": [
    {
     "name": "stdout",
     "output_type": "stream",
     "text": [
      "/home/shar1/MyNotes/fast_dl2/data/pascal/pascal_test_2007.json\n",
      "/home/shar1/MyNotes/fast_dl2/data/pascal/pascal_train2007.json\n"
     ]
    }
   ],
   "source": [
    "# different ways of callin the function. \n",
    "pascal_train_2007 = Path.cwd().joinpath(\"data/pascal/pascal_train2007.json\")\n",
    "pascal_test_2007 = Path.cwd()/\"data/pascal/pascal_test_2007.json\"\n",
    "\n",
    "print(pascal_test_2007)\n",
    "print(pascal_train_2007)"
   ]
  },
  {
   "cell_type": "code",
   "execution_count": 4,
   "metadata": {},
   "outputs": [
    {
     "name": "stdout",
     "output_type": "stream",
     "text": [
      "['data/pascal/pascal_train2007.json', 'data/pascal/VOC2007']\n"
     ]
    }
   ],
   "source": [
    "# for joining multiple directories\n",
    "\n",
    "parts = [\"data/pascal/pascal_train2007.json\", \"data/pascal/VOC2007\"]\n",
    "joined_pascal_2007 = Path.cwd().joinpath(*parts)\n",
    "\n",
    "print(parts)"
   ]
  },
  {
   "cell_type": "code",
   "execution_count": 5,
   "metadata": {},
   "outputs": [
    {
     "data": {
      "text/plain": [
       "(<generator object Path.iterdir at 0x7f7984329c50>,\n",
       " False,\n",
       " False,\n",
       " PosixPath('/home/shar1/MyNotes/fast_dl2/data'),\n",
       " ('/', 'home', 'shar1', 'MyNotes', 'fast_dl2', 'data', 'pascal'))"
      ]
     },
     "execution_count": 5,
     "metadata": {},
     "output_type": "execute_result"
    }
   ],
   "source": [
    "# Lets checkout the goodies offered by pathlib.\n",
    "pascal = Path.cwd()/\"data/pascal\"\n",
    "pascal.iterdir(), pascal.is_dir(), pascal.is_file(), pascal.parent, pascal.parts\n",
    "\n",
    "#The generator object helps us to iterate over the files/folders inside this directory.\n",
    "#PosixPath ---> linux file-system thing. can be avoided by wrapping str()."
   ]
  },
  {
   "cell_type": "code",
   "execution_count": null,
   "metadata": {},
   "outputs": [],
   "source": []
  },
  {
   "cell_type": "markdown",
   "metadata": {},
   "source": [
    "# **Lambda Functions**"
   ]
  },
  {
   "cell_type": "code",
   "execution_count": 28,
   "metadata": {},
   "outputs": [],
   "source": [
    "import numpy as np\n",
    "num = [2, 8, 4, 23, 21, 9, 4, 6]"
   ]
  },
  {
   "cell_type": "code",
   "execution_count": 56,
   "metadata": {},
   "outputs": [
    {
     "name": "stdout",
     "output_type": "stream",
     "text": [
      "3\n",
      "[21, 9, 6]\n",
      "[14, 26, 18, 56, 52, 28, 18, 22]\n"
     ]
    }
   ],
   "source": [
    "function_anony = lambda x, y : x + y\n",
    "print(function_anony(1,2)) # first printed line.\n",
    "\n",
    "lf1 = filter(lambda x: x % 3 == 0, num)\n",
    "print(list(lf1)) # Second printed line.\n",
    "\n",
    "lf2 = map(lambda x: x * 2 + 10, num)\n",
    "print(list(lf2))# Third printed line."
   ]
  },
  {
   "cell_type": "code",
   "execution_count": 42,
   "metadata": {},
   "outputs": [
    {
     "data": {
      "text/plain": [
       "[3, 6, 9]"
      ]
     },
     "execution_count": 42,
     "metadata": {},
     "output_type": "execute_result"
    }
   ],
   "source": []
  },
  {
   "cell_type": "markdown",
   "metadata": {},
   "source": [
    "# **List, Dictionary Comprehensions**\n",
    "- List comprehensions are a tool for transforming one list (any iterable actually) into another list. During this transformation, elements can be conditionally included in the new list and each element can be transformed as needed.\n",
    "- same goes for dictionary comprehensions"
   ]
  },
  {
   "cell_type": "code",
   "execution_count": 59,
   "metadata": {},
   "outputs": [
    {
     "data": {
      "text/plain": [
       "([], {}, ())"
      ]
     },
     "execution_count": 59,
     "metadata": {},
     "output_type": "execute_result"
    }
   ],
   "source": [
    "[], {}, () # list, dictionary, tuple. Python takes tuple as default input."
   ]
  },
  {
   "cell_type": "code",
   "execution_count": 60,
   "metadata": {},
   "outputs": [],
   "source": [
    "numbers = [1, 2, 3, 4, 5]"
   ]
  },
  {
   "cell_type": "markdown",
   "metadata": {},
   "source": [
    "List comprehenssion minimizes the code below\n",
    "```\n",
    "for n in numbers:\n",
    "    if n%2 == 1:\n",
    "        n.append(n*2)\n",
    "```"
   ]
  },
  {
   "cell_type": "code",
   "execution_count": 62,
   "metadata": {},
   "outputs": [
    {
     "data": {
      "text/plain": [
       "[2, 6, 10]"
      ]
     },
     "execution_count": 62,
     "metadata": {},
     "output_type": "execute_result"
    }
   ],
   "source": [
    "doubled_odds = [n * 2 for n in numbers if n % 2 == 1]; doubled_odds #The need the conditional list comprehension"
   ]
  },
  {
   "cell_type": "code",
   "execution_count": 63,
   "metadata": {},
   "outputs": [],
   "source": [
    "matrix = [[2,3], [3, 2]]"
   ]
  },
  {
   "cell_type": "code",
   "execution_count": 64,
   "metadata": {},
   "outputs": [
    {
     "data": {
      "text/plain": [
       "[4, 6, 6, 4]"
      ]
     },
     "execution_count": 64,
     "metadata": {},
     "output_type": "execute_result"
    }
   ],
   "source": [
    "flattened = [n*2 for row in matrix for n in row]; flattened #Nested list comprehension."
   ]
  },
  {
   "cell_type": "code",
   "execution_count": 16,
   "metadata": {},
   "outputs": [],
   "source": [
    "word = \"fastAI\""
   ]
  },
  {
   "cell_type": "code",
   "execution_count": 17,
   "metadata": {},
   "outputs": [
    {
     "data": {
      "text/plain": [
       "{0: 'f', 1: 'a', 2: 's', 3: 't', 4: 'A', 5: 'I'}"
      ]
     },
     "execution_count": 17,
     "metadata": {},
     "output_type": "execute_result"
    }
   ],
   "source": [
    "dictionary = {i:w for i,w in enumerate(word)} ; dictionary"
   ]
  },
  {
   "cell_type": "code",
   "execution_count": 18,
   "metadata": {},
   "outputs": [
    {
     "data": {
      "text/plain": [
       "{'A': 4, 'I': 5, 'a': 1, 'f': 0, 's': 2, 't': 3}"
      ]
     },
     "execution_count": 18,
     "metadata": {},
     "output_type": "execute_result"
    }
   ],
   "source": [
    "flipped = {value: key for key, value in dictionary.items()}; flipped #default sorted output"
   ]
  },
  {
   "cell_type": "markdown",
   "metadata": {},
   "source": [
    "# **Matplotlib**\n",
    "- Allows us to implement production quality graphics using very less code."
   ]
  },
  {
   "cell_type": "code",
   "execution_count": 6,
   "metadata": {},
   "outputs": [
    {
     "name": "stderr",
     "output_type": "stream",
     "text": [
      "UsageError: unrecognized arguments: #for displaying images within the notebook\n"
     ]
    }
   ],
   "source": [
    "%matplotlib inline #for displaying images within the notebook"
   ]
  },
  {
   "cell_type": "code",
   "execution_count": 7,
   "metadata": {},
   "outputs": [],
   "source": [
    "import matplotlib.pyplot as plt\n",
    "import numpy as np"
   ]
  },
  {
   "cell_type": "code",
   "execution_count": 12,
   "metadata": {},
   "outputs": [
    {
     "data": {
      "image/png": "[encoded data removed]",
      "text/plain": [
       "<Figure size 432x288 with 1 Axes>"
      ]
     },
     "metadata": {},
     "output_type": "display_data"
    }
   ],
   "source": [
    "fig = plt.figure()  # a new figure window\n",
    "ax = fig.add_subplot(1, 1, 1)  # specify (nrows, ncols, axnum)"
   ]
  },
  {
   "cell_type": "code",
   "execution_count": 13,
   "metadata": {},
   "outputs": [
    {
     "data": {
      "image/png": "[encoded data removed]",
      "text/plain": [
       "<Figure size 432x288 with 1 Axes>"
      ]
     },
     "metadata": {},
     "output_type": "display_data"
    }
   ],
   "source": [
    "x = np.linspace(-10, 10, 100)\n",
    "y = np.tanh(x)\n",
    "\n",
    "ax.plot(x, y)\n",
    "display(fig)"
   ]
  },
  {
   "cell_type": "code",
   "execution_count": 14,
   "metadata": {},
   "outputs": [
    {
     "data": {
      "image/png": "[encoded data removed]",
      "text/plain": [
       "<Figure size 432x288 with 1 Axes>"
      ]
     },
     "execution_count": 14,
     "metadata": {},
     "output_type": "execute_result"
    }
   ],
   "source": [
    "y2 = np.sin(x)\n",
    "ax.plot(x, y2, 'r')\n",
    "\n",
    "display(fig)"
   ]
  },
  {
   "cell_type": "code",
   "execution_count": null,
   "metadata": {},
   "outputs": [],
   "source": []
  },
  {
   "cell_type": "code",
   "execution_count": null,
   "metadata": {},
   "outputs": [],
   "source": []
  },
  {
   "cell_type": "markdown",
   "metadata": {},
   "source": [
    "# Generators, Iterators\n",
    "\n",
    "Pythons' **`iter()`** method will create an iterator object and start at the beginning of the dataset. And afterwards our iterator will have **`__next__`** that can be used to pull a mini-batch"
   ]
  },
  {
   "cell_type": "code",
   "execution_count": null,
   "metadata": {},
   "outputs": [],
   "source": []
  },
  {
   "cell_type": "code",
   "execution_count": null,
   "metadata": {},
   "outputs": [],
   "source": []
  },
  {
   "cell_type": "code",
   "execution_count": null,
   "metadata": {},
   "outputs": [],
   "source": []
  },
  {
   "cell_type": "markdown",
   "metadata": {},
   "source": [
    "# Decoraters"
   ]
  },
  {
   "cell_type": "code",
   "execution_count": 3,
   "metadata": {},
   "outputs": [
    {
     "name": "stdout",
     "output_type": "stream",
     "text": [
      "Can you buy me a beer?\n",
      "Can you buy me a beer? Please! I am poor :(\n"
     ]
    }
   ],
   "source": [
    "from functools import wraps\n",
    "\n",
    "\n",
    "def beg(target_function):\n",
    "    print(1)\n",
    "    @wraps(target_function)\n",
    "    print(2)\n",
    "    def wrapper(*args, **kwargs):\n",
    "        print(3)\n",
    "        msg, say_please = target_function(*args, **kwargs)\n",
    "        if say_please:\n",
    "            return \"{} {}\".format(msg, \"Please! I am poor :(\")\n",
    "        return msg\n",
    "\n",
    "    return wrapper\n",
    "\n",
    "\n",
    "@beg\n",
    "def say(say_please=False):\n",
    "    msg = \"Can you buy me a beer?\"\n",
    "    return msg, say_please\n",
    "\n",
    "\n",
    "print (say())  # Can you buy me a beer?\n",
    "print (say(say_please=True))  # Can you buy me a beer? Please! I am poor :("
   ]
  },
  {
   "cell_type": "code",
   "execution_count": null,
   "metadata": {},
   "outputs": [],
   "source": []
  },
  {
   "cell_type": "code",
   "execution_count": null,
   "metadata": {},
   "outputs": [],
   "source": []
  },
  {
   "cell_type": "markdown",
   "metadata": {},
   "source": [
    "# Debugger"
   ]
  },
  {
   "cell_type": "markdown",
   "metadata": {},
   "source": [
    "```\n",
    "> <ipython-input-99-6d7dd6a3d3cc>(4)<module>()\n",
    "-> ima=md.val_ds.denorm(x)[i]\n",
    "(Pdb) h\n",
    "\n",
    "Documented commands (type help <topic>):\n",
    "========================================\n",
    "EOF    c          d        h         list      q        rv       undisplay\n",
    "a      cl         debug    help      ll        quit     s        unt      \n",
    "alias  clear      disable  ignore    longlist  r        source   until    \n",
    "args   commands   display  interact  n         restart  step     up       \n",
    "b      condition  down     j         next      return   tbreak   w        \n",
    "break  cont       enable   jump      p         retval   u        whatis   \n",
    "bt     continue   exit     l         pp        run      unalias  where    \n",
    "\n",
    "Miscellaneous help topics:\n",
    "==========================\n",
    "exec  pdb\n",
    "```\n",
    "\n",
    "Can view variables throughout the debugging process\n",
    "```\n",
    "(Pdb) n # will go to next step\n",
    "\n",
    "(Pdb) l # will show the currentlocation\n",
    "  1  \tfig, axes = plt.subplots(3, 4, figsize=(12, 8))\n",
    "  2  \tfor i,ax in enumerate(axes.flat):\n",
    "  3  \t    pdb.set_trace()\n",
    "  4  ->\t    ima=md.val_ds.denorm(x)[i]\n",
    "  5  \t    b = md.classes[preds[i]]\n",
    "  6  \t    ax = show_img(ima, ax=ax)\n",
    "  7  \t    draw_text(ax, (0,0), b)\n",
    "  8  \tplt.tight_layout()\n",
    "[EOF]\n",
    "\n",
    "(Pdb) s # will go into a function\n",
    "\n",
    "(Pdb) c # continue to next break point\n",
    "```"
   ]
  },
  {
   "cell_type": "code",
   "execution_count": null,
   "metadata": {},
   "outputs": [],
   "source": []
  },
  {
   "cell_type": "code",
   "execution_count": null,
   "metadata": {},
   "outputs": [],
   "source": []
  },
  {
   "cell_type": "markdown",
   "metadata": {},
   "source": [
    "# Other Random Useful Functions."
   ]
  },
  {
   "cell_type": "markdown",
   "metadata": {},
   "source": [
    "## Reduce Function"
   ]
  },
  {
   "cell_type": "code",
   "execution_count": null,
   "metadata": {},
   "outputs": [],
   "source": [
    "b = reduce()"
   ]
  },
  {
   "cell_type": "code",
   "execution_count": null,
   "metadata": {},
   "outputs": [],
   "source": [
    "from functools import reduce\n",
    "su = reduce(lambda )\n",
    "reduce(lambda x : pd.read)"
   ]
  },
  {
   "cell_type": "code",
   "execution_count": null,
   "metadata": {},
   "outputs": [],
   "source": [
    "s = reduce(lamp x1,x2: x1+x2, axis=1)\n",
    "su = reduce(lamba x1,x2 : pd.concat([x1, x2], "
   ]
  },
  {
   "cell_type": "markdown",
   "metadata": {},
   "source": [
    "mkl library optimizers"
   ]
  },
  {
   "cell_type": "markdown",
   "metadata": {},
   "source": [
    "decoraters(functions passed as input and get another as output), iterators, generators."
   ]
  },
  {
   "cell_type": "code",
   "execution_count": null,
   "metadata": {},
   "outputs": [],
   "source": []
  },
  {
   "cell_type": "code",
   "execution_count": null,
   "metadata": {},
   "outputs": [],
   "source": []
  }
 ],
 "metadata": {
  "kernelspec": {
   "display_name": "Python 3",
   "language": "python",
   "name": "python3"
  },
  "language_info": {
   "codemirror_mode": {
    "name": "ipython",
    "version": 3
   },
   "file_extension": ".py",
   "mimetype": "text/x-python",
   "name": "python",
   "nbconvert_exporter": "python",
   "pygments_lexer": "ipython3",
   "version": "3.6.4"
  }
 },
 "nbformat": 4,
 "nbformat_minor": 2
}
