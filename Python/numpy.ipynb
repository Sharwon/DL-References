{
 "cells": [
  {
   "cell_type": "markdown",
   "metadata": {},
   "source": [
    "\n",
    "# NUMPY\n",
    "\n",
    "Numerical Python, or \"Numpy\" for short. Numpy provides us with high performance multi-dimensional arrays which we can use as vectors or matrices.and tools for working with these arrays. \n",
    "\n",
    "The key features of numpy are:\n",
    "\n",
    "- ndarrays: n-dimensional arrays of the same data type which are fast and space-efficient.  \n",
    "- There are a number of built-in methods for ndarrays which allow for rapid processing of data without using loops (e.g., compute the mean).\n",
    "- Broadcasting: a useful tool which defines implicit behavior between multi-dimensional arrays of different sizes.\n",
    "- Vectorization: enables numeric operations on ndarrays.\n",
    "- Input/Output: simplifies reading and writing of data from/to file."
   ]
  },
  {
   "cell_type": "markdown",
   "metadata": {},
   "source": [
    "## ndarrays\n",
    "They are time and space-efficient multidimensional arrays at the core of numpy.  Like the data structures in Week 2, let's get started by creating ndarrays using the numpy package."
   ]
  },
  {
   "cell_type": "code",
   "execution_count": 1,
   "metadata": {},
   "outputs": [],
   "source": [
    "# importing numpy\n",
    "import numpy as np"
   ]
  },
  {
   "cell_type": "code",
   "execution_count": 2,
   "metadata": {},
   "outputs": [
    {
     "name": "stdout",
     "output_type": "stream",
     "text": [
      "<class 'numpy.ndarray'>\n"
     ]
    }
   ],
   "source": [
    "# Create a rank 1 array\n",
    "a_np_array = np.array([1, 2, 4])\n",
    "print(type(a_np_array)) "
   ]
  },
  {
   "cell_type": "code",
   "execution_count": 3,
   "metadata": {},
   "outputs": [
    {
     "data": {
      "text/plain": [
       "(3,)"
      ]
     },
     "execution_count": 3,
     "metadata": {},
     "output_type": "execute_result"
    }
   ],
   "source": [
    "# shape of the created array, (rank 1)\n",
    "a_np_array.shape"
   ]
  },
  {
   "cell_type": "code",
   "execution_count": 6,
   "metadata": {},
   "outputs": [
    {
     "data": {
      "text/plain": [
       "(1, 2, 4)"
      ]
     },
     "execution_count": 6,
     "metadata": {},
     "output_type": "execute_result"
    }
   ],
   "source": [
    "# accessing the elements of this array.\n",
    "# need only one index as its a one diamensional array.\n",
    "a_np_array[0], a_np_array[1], a_np_array[2]"
   ]
  },
  {
   "cell_type": "code",
   "execution_count": 8,
   "metadata": {},
   "outputs": [
    {
     "name": "stdout",
     "output_type": "stream",
     "text": [
      "[0 2 4]\n"
     ]
    }
   ],
   "source": [
    "# since arrays are mutable, lets change the first element.\n",
    "a_np_array[0] = 0\n",
    "print(a_np_array)"
   ]
  },
  {
   "cell_type": "code",
   "execution_count": 11,
   "metadata": {},
   "outputs": [
    {
     "name": "stdout",
     "output_type": "stream",
     "text": [
      "[[ 1  2  3  4]\n",
      " [ 4  5  6  7]\n",
      " [ 7  8  9 10]]\n"
     ]
    }
   ],
   "source": [
    "# Create rank 2 array\n",
    "rank2_array = np.array([[1,2,3,4],[4,5,6,7],[7,8,9,10]])\n",
    "print(rank2_array)"
   ]
  },
  {
   "cell_type": "code",
   "execution_count": 16,
   "metadata": {},
   "outputs": [
    {
     "name": "stdout",
     "output_type": "stream",
     "text": [
      "Shape of rank2_array is 3 rows, 4 columns:  (3, 4)\n",
      "-Element at (1,2) is:  2   -Element at (3,3) is:  9\n"
     ]
    }
   ],
   "source": [
    "# shape of the created array, (rank 3)\n",
    "print(\"Shape of rank2_array is 3 rows, 4 columns: \", rank2_array.shape)\n",
    "# accessing 1st element in second row, 3 element of 3rd row.\n",
    "print(\"-Element at (1,2) is: \", rank2_array[0, 1], \"  -Element at (3,3) is: \", rank2_array[2, 2])"
   ]
  },
  {
   "cell_type": "code",
   "execution_count": 28,
   "metadata": {},
   "outputs": [
    {
     "name": "stdout",
     "output_type": "stream",
     "text": [
      "Zero matrix of shape (3,4) \n",
      " [[0. 0. 0. 0.]\n",
      " [0. 0. 0. 0.]\n",
      " [0. 0. 0. 0.]]\n",
      "One's matrix of shape (2,2) \n",
      " [[1. 1.]\n",
      " [1. 1.]]\n",
      "Matrix of shape (2,3) with all values as '5' \n",
      " [[5 5 5]\n",
      " [5 5 5]]\n",
      "Identity matrix of shape (2,2) \n",
      " [[1. 0.]\n",
      " [0. 1.]]\n",
      "Matrix of shape (3,3) filled with some random values \n",
      " [[ 0.53369317 -1.63595566 -0.51224718]\n",
      " [ 0.96108709  0.67195819 -0.04493374]\n",
      " [-1.04836031 -0.26269445  0.42037945]]\n"
     ]
    }
   ],
   "source": [
    "# making a np array, defaults.\n",
    "print(\"Zero matrix of shape (3,4) \\n\",np.zeros((3, 4)))\n",
    "print(\"One's matrix of shape (2,2) \\n\", np.ones((2,2)))\n",
    "print(\"Matrix of shape (2,3) with all values as '5' \\n\", np.full((2,3), 5))\n",
    "print(\"Identity matrix of shape (2,2) \\n\", np.eye(2,2))\n",
    "print(\"Matrix of shape (3,3) filled with some random values \\n\", np.random.randn(3,3))"
   ]
  },
  {
   "cell_type": "code",
   "execution_count": 30,
   "metadata": {},
   "outputs": [
    {
     "name": "stdout",
     "output_type": "stream",
     "text": [
      "[[2 3]\n",
      " [6 7]]\n"
     ]
    }
   ],
   "source": [
    "# ARRAY INDEXING\n",
    "# Create the following rank 2 array with shape (3, 4)\n",
    "# [[ 1  2  3  4]\n",
    "#  [ 5  6  7  8]\n",
    "#  [ 9 10 11 12]]\n",
    "a = np.array([[1,2,3,4], [5,6,7,8], [9,10,11,12]])\n",
    "\n",
    "# Use slicing to pull out the subarray consisting of the first 2 rows\n",
    "# and columns 1 and 2; b is the following array of shape (2, 2):\n",
    "# [[2 3]\n",
    "#  [6 7]]\n",
    "a_slice = a[:2, 1:3]\n",
    "print(a_slice)"
   ]
  },
  {
   "cell_type": "code",
   "execution_count": 34,
   "metadata": {},
   "outputs": [
    {
     "name": "stdout",
     "output_type": "stream",
     "text": [
      "Before: 1\n",
      "After: 100\n"
     ]
    }
   ],
   "source": [
    "#When you modify a slice, you actually modify the underlying array.\n",
    "print(\"Before:\", a[0, 1])   #inspect the element at 0, 1  \n",
    "a_slice[0, 0] = 100    # a_slice[0, 0] is the same piece of data as an_array[0, 1]\n",
    "print(\"After:\", a[0, 1])   "
   ]
  },
  {
   "cell_type": "code",
   "execution_count": 35,
   "metadata": {},
   "outputs": [
    {
     "name": "stdout",
     "output_type": "stream",
     "text": [
      "[[11 12 13 14]\n",
      " [21 22 23 24]\n",
      " [31 32 33 34]]\n",
      "[21 22 23 24] (4,)\n",
      "[[21 22 23 24]] (1, 4)\n"
     ]
    }
   ],
   "source": [
    "#We can use combinations of integer indexing and slice indexing to create different shaped matrices.\n",
    "# Create a Rank 2 array of shape (3, 4)\n",
    "an_array = np.array([[11,12,13,14], [21,22,23,24], [31,32,33,34]])\n",
    "print(an_array)\n",
    "# Using both integer indexing & slicing generates an array of lower rank\n",
    "row_rank1 = an_array[1, :]    # Rank 1 view \n",
    "\n",
    "print(row_rank1, row_rank1.shape)  # notice only a single []\n",
    "# Slicing alone: generates an array of the same rank as the an_array\n",
    "row_rank2 = an_array[1:2, :]  # Rank 2 view \n",
    "\n",
    "print(row_rank2, row_rank2.shape)   # Notice the [[ ]]"
   ]
  },
  {
   "cell_type": "code",
   "execution_count": 41,
   "metadata": {},
   "outputs": [
    {
     "name": "stdout",
     "output_type": "stream",
     "text": [
      "Original Array:\n",
      "[[10 20 30]\n",
      " [30 40 50]\n",
      " [50 60 70]\n",
      " [70 80 90]]\n",
      "\n",
      "Col indices picked :  [0 1 2 0]\n",
      "\n",
      "Rows indices picked :  [0 1 2 3]\n",
      "0 ,  0\n",
      "1 ,  1\n",
      "2 ,  2\n",
      "3 ,  0\n",
      "\n",
      "Values in the array at those indices:  [10 40 70 70]\n",
      "\n",
      "Changed Array:\n",
      "[[110  20  30]\n",
      " [ 30 140  50]\n",
      " [ 50  60 170]\n",
      " [170  80  90]]\n"
     ]
    }
   ],
   "source": [
    "#Sometimes it's useful to use an array of indexes to access or change elements.\n",
    "\n",
    "# Create a new array\n",
    "an_array = np.array([[10,20,30], [30,40,50], [50,60,70], [70,80,90]])\n",
    "\n",
    "print('Original Array:')\n",
    "print(an_array)\n",
    "# Create an array of indices\n",
    "col_indices = np.array([0, 1, 2, 0])\n",
    "print('\\nCol indices picked : ', col_indices)\n",
    "\n",
    "row_indices = np.arange(4)\n",
    "print('\\nRows indices picked : ', row_indices)\n",
    "# Examine the pairings of row_indices and col_indices.  These are the elements we'll change next.\n",
    "for row,col in zip(row_indices,col_indices):\n",
    "    print(row, \", \",col)\n",
    "# Select one element from each row\n",
    "print('\\nValues in the array at those indices: ',an_array[row_indices, col_indices])\n",
    "# Change one element from each row using the indices selected\n",
    "an_array[row_indices, col_indices] += 100\n",
    "\n",
    "print('\\nChanged Array:')\n",
    "print(an_array)"
   ]
  },
  {
   "cell_type": "code",
   "execution_count": 45,
   "metadata": {},
   "outputs": [
    {
     "name": "stdout",
     "output_type": "stream",
     "text": [
      "[[ True False False]\n",
      " [False  True False]\n",
      " [False  True  True]\n",
      " [ True  True  True]]\n",
      "[110 140  60 170 170  80  90]\n",
      "[110 140  60 170 170  80  90]\n"
     ]
    }
   ],
   "source": [
    "# Can do boolean indexing\n",
    "\n",
    "# Find the elements of a that are bigger than 50;\n",
    "# this returns a numpy array of Booleans of the same\n",
    "# shape as a, where each slot of bool_idx tells\n",
    "# whether that element of a is > 50.\n",
    "bool_idx = (an_array > 50)  \n",
    "\n",
    "print(bool_idx)\n",
    "\n",
    "print(an_array[bool_idx])\n",
    "\n",
    "# We can do all of the above in a single concise statement:\n",
    "print(an_array[an_array > 50])"
   ]
  },
  {
   "cell_type": "code",
   "execution_count": 46,
   "metadata": {},
   "outputs": [
    {
     "name": "stdout",
     "output_type": "stream",
     "text": [
      "[[110 120  30]\n",
      " [ 30 240  50]\n",
      " [ 50 160 170]\n",
      " [170 180  90]]\n"
     ]
    }
   ],
   "source": [
    "#We can actually change elements in the array applying a similar logical filter. Let's add 100 to all the even values.\n",
    "\n",
    "an_array[an_array % 20 == 0] +=100\n",
    "print(an_array)"
   ]
  },
  {
   "cell_type": "code",
   "execution_count": 49,
   "metadata": {},
   "outputs": [
    {
     "name": "stdout",
     "output_type": "stream",
     "text": [
      "[1. 2. 3. 4.]\n"
     ]
    },
    {
     "data": {
      "text/plain": [
       "dtype('float64')"
      ]
     },
     "execution_count": 49,
     "metadata": {},
     "output_type": "execute_result"
    }
   ],
   "source": [
    "# Specifiying a datatype\n",
    "floatedarray = np.array([1, 2, 3, 4], dtype=np.float64)\n",
    "print(floatedarray)\n",
    "floatedarray.dtype"
   ]
  },
  {
   "cell_type": "markdown",
   "metadata": {},
   "source": [
    "## Arithmetic Operations"
   ]
  },
  {
   "cell_type": "code",
   "execution_count": 50,
   "metadata": {},
   "outputs": [
    {
     "name": "stdout",
     "output_type": "stream",
     "text": [
      "[[111 102]\n",
      " [101 122]]\n",
      "\n",
      "[[211.1 212.1]\n",
      " [201.1 222.1]]\n"
     ]
    }
   ],
   "source": [
    "x = np.array([[111,102],[101,122]], dtype=np.int)\n",
    "y = np.array([[211.1,212.1],[201.1,222.1]], dtype=np.float64)\n",
    "\n",
    "print(x)\n",
    "print()\n",
    "print(y)"
   ]
  },
  {
   "cell_type": "code",
   "execution_count": 51,
   "metadata": {},
   "outputs": [
    {
     "name": "stdout",
     "output_type": "stream",
     "text": [
      "[[322.1 314.1]\n",
      " [302.1 344.1]]\n",
      "\n",
      "[[322.1 314.1]\n",
      " [302.1 344.1]]\n"
     ]
    }
   ],
   "source": [
    "# add\n",
    "print(x + y)\n",
    "print()\n",
    "print(np.add(x, y))"
   ]
  },
  {
   "cell_type": "code",
   "execution_count": 52,
   "metadata": {},
   "outputs": [
    {
     "name": "stdout",
     "output_type": "stream",
     "text": [
      "[[-100.1 -110.1]\n",
      " [-100.1 -100.1]]\n",
      "\n",
      "[[-100.1 -110.1]\n",
      " [-100.1 -100.1]]\n"
     ]
    }
   ],
   "source": [
    "# subtract\n",
    "print(x - y)\n",
    "print()\n",
    "print(np.subtract(x, y))"
   ]
  },
  {
   "cell_type": "code",
   "execution_count": 53,
   "metadata": {},
   "outputs": [
    {
     "name": "stdout",
     "output_type": "stream",
     "text": [
      "[[23432.1 21634.2]\n",
      " [20311.1 27096.2]]\n",
      "\n",
      "[[23432.1 21634.2]\n",
      " [20311.1 27096.2]]\n"
     ]
    }
   ],
   "source": [
    "# multiply\n",
    "print(x * y)\n",
    "print()\n",
    "print(np.multiply(x, y))"
   ]
  },
  {
   "cell_type": "code",
   "execution_count": 54,
   "metadata": {},
   "outputs": [
    {
     "name": "stdout",
     "output_type": "stream",
     "text": [
      "[[0.52581715 0.48090523]\n",
      " [0.50223769 0.54930212]]\n",
      "\n",
      "[[0.52581715 0.48090523]\n",
      " [0.50223769 0.54930212]]\n"
     ]
    }
   ],
   "source": [
    "# divide\n",
    "print(x / y)\n",
    "print()\n",
    "print(np.divide(x, y))"
   ]
  },
  {
   "cell_type": "code",
   "execution_count": 55,
   "metadata": {},
   "outputs": [
    {
     "name": "stdout",
     "output_type": "stream",
     "text": [
      "[[10.53565375 10.09950494]\n",
      " [10.04987562 11.04536102]]\n"
     ]
    }
   ],
   "source": [
    "# square root\n",
    "print(np.sqrt(x))"
   ]
  },
  {
   "cell_type": "code",
   "execution_count": 65,
   "metadata": {},
   "outputs": [
    {
     "name": "stdout",
     "output_type": "stream",
     "text": [
      "[[4.78151068e+91 1.29974936e+92]\n",
      " [2.17080249e+87 2.86288848e+96]]\n"
     ]
    }
   ],
   "source": [
    "# exponent (e ** x)\n",
    "print(np.exp(y))"
   ]
  },
  {
   "cell_type": "markdown",
   "metadata": {},
   "source": [
    "### Basic Statistical Operations:"
   ]
  },
  {
   "cell_type": "code",
   "execution_count": 59,
   "metadata": {},
   "outputs": [
    {
     "name": "stdout",
     "output_type": "stream",
     "text": [
      "[[ -5.50674253 -15.99972284 -11.54997606   4.20223224 -21.70002818]\n",
      " [ 10.58460679   0.15928781   6.39411631  12.68264437   5.84187096]]\n",
      "Mean: \n",
      "-1.4891711117799673\n",
      "Mean by row: \n",
      "[-10.11084747   7.13250525]\n",
      "Mean by column: \n",
      "[ 2.53893213 -7.92021751 -2.57792988  8.44243831 -7.92907861]\n",
      "Sum of all the elements:\n",
      "-14.891711117799673\n",
      "Medians:\n",
      "[-11.54997606   6.39411631]\n"
     ]
    }
   ],
   "source": [
    "# setup a random 2 x 4 matrix\n",
    "arr = 15 * np.random.randn(2,5)\n",
    "print(arr)\n",
    "print(\"Mean: \")\n",
    "# compute the mean for all elements\n",
    "print(arr.mean())\n",
    "print(\"Mean by row: \")\n",
    "# compute the means by row\n",
    "print(arr.mean(axis = 1))\n",
    "print(\"Mean by column: \")\n",
    "# compute the means by column\n",
    "print(arr.mean(axis = 0))\n",
    "print(\"Sum of all the elements:\")\n",
    "# sum all the elements\n",
    "print(arr.sum())\n",
    "print(\"Medians:\")\n",
    "# compute the medians\n",
    "print(np.median(arr, axis = 1))"
   ]
  },
  {
   "cell_type": "markdown",
   "metadata": {},
   "source": [
    "### Sorting"
   ]
  },
  {
   "cell_type": "code",
   "execution_count": 62,
   "metadata": {},
   "outputs": [
    {
     "name": "stdout",
     "output_type": "stream",
     "text": [
      "[-0.26419144 -0.8977148   1.29521363  0.52932755 -0.97411037 -0.07303587\n",
      "  0.03733673 -0.40920998 -1.55720265  0.00595524]\n",
      "[-1.55720265 -0.97411037 -0.8977148  -0.40920998 -0.26419144 -0.07303587\n",
      "  0.00595524  0.03733673  0.52932755  1.29521363]\n",
      "\n",
      "UnSorted output: \n",
      " [-0.26419144 -0.8977148   1.29521363  0.52932755 -0.97411037 -0.07303587\n",
      "  0.03733673 -0.40920998 -1.55720265  0.00595524]\n",
      "Sorted output: \n",
      " [-1.55720265 -0.97411037 -0.8977148  -0.40920998 -0.26419144 -0.07303587\n",
      "  0.00595524  0.03733673  0.52932755  1.29521363]\n"
     ]
    }
   ],
   "source": [
    "# create a 10 element array of randoms\n",
    "unsorted = np.random.randn(10)\n",
    "\n",
    "print(unsorted)\n",
    "\n",
    "# create copy and sort\n",
    "sorted = np.array(unsorted)\n",
    "sorted.sort()\n",
    "\n",
    "print(sorted)\n",
    "print()\n",
    "print(\"UnSorted output: \\n\",unsorted)\n",
    "\n",
    "# inplace sorting\n",
    "unsorted.sort() \n",
    "print(\"Sorted output: \\n\", unsorted)"
   ]
  },
  {
   "cell_type": "code",
   "execution_count": 70,
   "metadata": {},
   "outputs": [
    {
     "name": "stdout",
     "output_type": "stream",
     "text": [
      "Unique elements of array [4,1,2,4,2,3,2,4,1] are:  [1 2 3 4]\n",
      "\n",
      "The sets are: \n",
      " ['desk' 'chair' 'bulb'] ['lamp' 'bulb' 'chair']\n",
      "\n",
      "Their intersection: \n",
      " ['bulb' 'chair']\n",
      "\n",
      "Their union: \n",
      " ['bulb' 'chair' 'desk' 'lamp']\n",
      "\n",
      "Their set diff: \n",
      " ['desk']\n",
      "\n",
      "Their set intersection: \n",
      " [False  True  True]\n"
     ]
    }
   ],
   "source": [
    "#Finding Unique elements\n",
    "\n",
    "array = np.array([4,1,2,4,2,3,2,4,1])\n",
    "\n",
    "print(\"Unique elements of array [4,1,2,4,2,3,2,4,1] are: \",np.unique(array))\n",
    "\n",
    "set1 = np.array(['desk','chair','bulb'])\n",
    "set2 = np.array(['lamp','bulb','chair'])\n",
    "print(\"\\nThe sets are: \\n\", set1, set2)\n",
    "print(\"\\nTheir intersection: \\n\",np.intersect1d(set1, set2) ) \n",
    "print(\"\\nTheir union: \\n\", np.union1d(set1, set2) )\n",
    "print(\"\\nTheir set diff: \\n\", np.setdiff1d(set1, set2) )# elements in s1 that are not in s2\n",
    "print(\"\\nTheir set intersection: \\n\", np.in1d(set1, set2) )#which element of s1 is also in s2"
   ]
  },
  {
   "cell_type": "code",
   "execution_count": null,
   "metadata": {},
   "outputs": [],
   "source": []
  }
 ],
 "metadata": {
  "kernelspec": {
   "display_name": "Python 3",
   "language": "python",
   "name": "python3"
  },
  "language_info": {
   "codemirror_mode": {
    "name": "ipython",
    "version": 3
   },
   "file_extension": ".py",
   "mimetype": "text/x-python",
   "name": "python",
   "nbconvert_exporter": "python",
   "pygments_lexer": "ipython3",
   "version": "3.6.4"
  }
 },
 "nbformat": 4,
 "nbformat_minor": 2
}
